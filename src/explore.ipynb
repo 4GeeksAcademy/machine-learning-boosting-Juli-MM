{
    "cells": [
        {
            "cell_type": "markdown",
            "metadata": {},
            "source": [
                "# Random Forest Project\n",
                "\n",
                "Predicting diabetes\n",
                "\n",
                "- In the previous project we saw how we could use a decision tree to predict data sets related to classification and regression. However, did you know that we can improve the prediction of a tree by using a random forest?\n",
                "\n",
                "- As we have studied, a random forest is a grouping of trees generated with random portions of the data and with random criteria. This view would allow us to improve the effectiveness of the model when an individual tree is not sufficient.\n",
                "\n",
                "- In this project you will focus on this idea by training the dataset to improve the accuracy."
            ]
        },
        {
            "cell_type": "markdown",
            "metadata": {},
            "source": [
                "#### Step 1: Loading the dataset"
            ]
        },
        {
            "cell_type": "code",
            "execution_count": 1,
            "metadata": {},
            "outputs": [
                {
                    "data": {
                        "text/html": [
                            "<div>\n",
                            "<style scoped>\n",
                            "    .dataframe tbody tr th:only-of-type {\n",
                            "        vertical-align: middle;\n",
                            "    }\n",
                            "\n",
                            "    .dataframe tbody tr th {\n",
                            "        vertical-align: top;\n",
                            "    }\n",
                            "\n",
                            "    .dataframe thead th {\n",
                            "        text-align: right;\n",
                            "    }\n",
                            "</style>\n",
                            "<table border=\"1\" class=\"dataframe\">\n",
                            "  <thead>\n",
                            "    <tr style=\"text-align: right;\">\n",
                            "      <th></th>\n",
                            "      <th>Pregnancies</th>\n",
                            "      <th>Glucose</th>\n",
                            "      <th>BloodPressure</th>\n",
                            "      <th>BMI</th>\n",
                            "      <th>DiabetesPedigreeFunction</th>\n",
                            "      <th>Age</th>\n",
                            "      <th>Outcome</th>\n",
                            "    </tr>\n",
                            "  </thead>\n",
                            "  <tbody>\n",
                            "    <tr>\n",
                            "      <th>0</th>\n",
                            "      <td>1.0</td>\n",
                            "      <td>149.0</td>\n",
                            "      <td>68.0</td>\n",
                            "      <td>29.3</td>\n",
                            "      <td>0.349</td>\n",
                            "      <td>42.0</td>\n",
                            "      <td>1</td>\n",
                            "    </tr>\n",
                            "    <tr>\n",
                            "      <th>1</th>\n",
                            "      <td>0.0</td>\n",
                            "      <td>140.0</td>\n",
                            "      <td>65.0</td>\n",
                            "      <td>42.6</td>\n",
                            "      <td>0.431</td>\n",
                            "      <td>24.0</td>\n",
                            "      <td>1</td>\n",
                            "    </tr>\n",
                            "    <tr>\n",
                            "      <th>2</th>\n",
                            "      <td>5.0</td>\n",
                            "      <td>122.0</td>\n",
                            "      <td>86.0</td>\n",
                            "      <td>34.7</td>\n",
                            "      <td>0.290</td>\n",
                            "      <td>33.0</td>\n",
                            "      <td>0</td>\n",
                            "    </tr>\n",
                            "    <tr>\n",
                            "      <th>3</th>\n",
                            "      <td>10.0</td>\n",
                            "      <td>161.0</td>\n",
                            "      <td>68.0</td>\n",
                            "      <td>25.5</td>\n",
                            "      <td>0.326</td>\n",
                            "      <td>47.0</td>\n",
                            "      <td>1</td>\n",
                            "    </tr>\n",
                            "    <tr>\n",
                            "      <th>4</th>\n",
                            "      <td>3.0</td>\n",
                            "      <td>150.0</td>\n",
                            "      <td>76.0</td>\n",
                            "      <td>21.0</td>\n",
                            "      <td>0.207</td>\n",
                            "      <td>37.0</td>\n",
                            "      <td>0</td>\n",
                            "    </tr>\n",
                            "  </tbody>\n",
                            "</table>\n",
                            "</div>"
                        ],
                        "text/plain": [
                            "   Pregnancies  Glucose  BloodPressure   BMI  DiabetesPedigreeFunction   Age  \\\n",
                            "0          1.0    149.0           68.0  29.3                     0.349  42.0   \n",
                            "1          0.0    140.0           65.0  42.6                     0.431  24.0   \n",
                            "2          5.0    122.0           86.0  34.7                     0.290  33.0   \n",
                            "3         10.0    161.0           68.0  25.5                     0.326  47.0   \n",
                            "4          3.0    150.0           76.0  21.0                     0.207  37.0   \n",
                            "\n",
                            "   Outcome  \n",
                            "0        1  \n",
                            "1        1  \n",
                            "2        0  \n",
                            "3        1  \n",
                            "4        0  "
                        ]
                    },
                    "execution_count": 1,
                    "metadata": {},
                    "output_type": "execute_result"
                }
            ],
            "source": [
                "import pandas as pd\n",
                "\n",
                "# Reading the processed dataset\n",
                "\n",
                "train_data = pd.read_csv(\"/workspaces/machine-learning-random-forest-Juli-MM/data/processed/clean_train.csv\")\n",
                "test_data = pd.read_csv(\"/workspaces/machine-learning-random-forest-Juli-MM/data/processed/clean_test.csv\")\n",
                "\n",
                "train_data.head()"
            ]
        },
        {
            "cell_type": "markdown",
            "metadata": {},
            "source": [
                "#### Step 2: Build a random forest"
            ]
        },
        {
            "cell_type": "code",
            "execution_count": 2,
            "metadata": {},
            "outputs": [],
            "source": [
                "# Separate predictors and target variable in training and test data:\n",
                "\n",
                "X_train = train_data.drop([\"Outcome\"], axis = 1)\n",
                "y_train = train_data[\"Outcome\"]\n",
                "X_test = test_data.drop([\"Outcome\"], axis = 1)\n",
                "y_test = test_data[\"Outcome\"]"
            ]
        }
    ],
    "metadata": {
        "kernelspec": {
            "display_name": "Python 3.8.13 64-bit ('3.8.13')",
            "language": "python",
            "name": "python3"
        },
        "language_info": {
            "codemirror_mode": {
                "name": "ipython",
                "version": 3
            },
            "file_extension": ".py",
            "mimetype": "text/x-python",
            "name": "python",
            "nbconvert_exporter": "python",
            "pygments_lexer": "ipython3",
            "version": "3.10.12"
        },
        "orig_nbformat": 4,
        "vscode": {
            "interpreter": {
                "hash": "110cc1dee26208153f2972f08a2ad52b6a56238dc66d48e87fb757ef2996db56"
            }
        }
    },
    "nbformat": 4,
    "nbformat_minor": 2
}
